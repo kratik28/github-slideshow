{
  "nbformat": 4,
  "nbformat_minor": 0,
  "metadata": {
    "colab": {
      "name": "first_06072021.ipynb",
      "provenance": [],
      "authorship_tag": "ABX9TyORJeiZb9vJ4YJMFK3yJ7QE",
      "include_colab_link": true
    },
    "kernelspec": {
      "name": "python3",
      "display_name": "Python 3"
    },
    "language_info": {
      "name": "python"
    }
  },
  "cells": [
    {
      "cell_type": "markdown",
      "metadata": {
        "id": "view-in-github",
        "colab_type": "text"
      },
      "source": [
        "<a href=\"https://colab.research.google.com/github/kratik28/github-slideshow/blob/master/first_06072021.ipynb\" target=\"_parent\"><img src=\"https://colab.research.google.com/assets/colab-badge.svg\" alt=\"Open In Colab\"/></a>"
      ]
    },
    {
      "cell_type": "code",
      "metadata": {
        "id": "sIaXK18C6hIK"
      },
      "source": [
        "import turtle\n"
      ],
      "execution_count": null,
      "outputs": []
    },
    {
      "cell_type": "markdown",
      "metadata": {
        "id": "zBjtxk5g4zgv"
      },
      "source": [
        "# First Notebook \n",
        "Learn Python for Data Science"
      ]
    }
  ]
}