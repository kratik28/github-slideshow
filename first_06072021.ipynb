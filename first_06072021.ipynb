{
  "nbformat": 4,
  "nbformat_minor": 0,
  "metadata": {
    "colab": {
      "name": "first_06072021.ipynb",
      "provenance": [],
      "authorship_tag": "ABX9TyMteXU4DT/4I0M6jC3V481z",
      "include_colab_link": true
    },
    "kernelspec": {
      "name": "python3",
      "display_name": "Python 3"
    },
    "language_info": {
      "name": "python"
    }
  },
  "cells": [
    {
      "cell_type": "markdown",
      "metadata": {
        "id": "view-in-github",
        "colab_type": "text"
      },
      "source": [
        "<a href=\"https://colab.research.google.com/github/kratik28/github-slideshow/blob/master/first_06072021.ipynb\" target=\"_parent\"><img src=\"https://colab.research.google.com/assets/colab-badge.svg\" alt=\"Open In Colab\"/></a>"
      ]
    },
    {
      "cell_type": "code",
      "metadata": {
        "id": "sIaXK18C6hIK",
        "colab": {
          "base_uri": "https://localhost:8080/"
        },
        "outputId": "1ec26610-42c3-445d-a6ee-bbc993882d08"
      },
      "source": [
        "2//2\n",
        "2/2\n"
      ],
      "execution_count": 6,
      "outputs": [
        {
          "output_type": "execute_result",
          "data": {
            "text/plain": [
              "1.0"
            ]
          },
          "metadata": {
            "tags": []
          },
          "execution_count": 6
        }
      ]
    },
    {
      "cell_type": "markdown",
      "metadata": {
        "id": "zBjtxk5g4zgv"
      },
      "source": [
        "# First Notebook \n",
        "Learn Python for Data Science"
      ]
    }
  ]
}