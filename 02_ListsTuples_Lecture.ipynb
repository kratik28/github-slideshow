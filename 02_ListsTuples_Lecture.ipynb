{
  "nbformat": 4,
  "nbformat_minor": 0,
  "metadata": {
    "colab": {
      "name": "02-ListsTuples_Lecture.ipynb",
      "provenance": [],
      "include_colab_link": true
    },
    "kernelspec": {
      "name": "python3",
      "display_name": "Python 3"
    },
    "language_info": {
      "name": "python"
    }
  },
  "cells": [
    {
      "cell_type": "markdown",
      "metadata": {
        "id": "view-in-github",
        "colab_type": "text"
      },
      "source": [
        "<a href=\"https://colab.research.google.com/github/kratik28/github-slideshow/blob/master/02_ListsTuples_Lecture.ipynb\" target=\"_parent\"><img src=\"https://colab.research.google.com/assets/colab-badge.svg\" alt=\"Open In Colab\"/></a>"
      ]
    },
    {
      "cell_type": "markdown",
      "metadata": {
        "id": "Y5lofjj6AXAq"
      },
      "source": [
        "#Lists and Tuples\n",
        "\n",
        "**Lists:** Holds multiple elements of various kinds, one of the built in structures to store collections of data. They are ordered and changeable. \n",
        "\n",
        "Lists are commonly used, has many interesting methods. \n",
        "\n",
        "**Tuples:** Holds multiple elements like lists, ordered but not changable. Not as commonly used by the end developer but often a part of the class methods. "
      ]
    },
    {
      "cell_type": "code",
      "metadata": {
        "id": "Nddax6HZafXH"
      },
      "source": [
        ""
      ],
      "execution_count": null,
      "outputs": []
    },
    {
      "cell_type": "markdown",
      "metadata": {
        "id": "mPeB2sc0EJsQ"
      },
      "source": [
        "## Tuples"
      ]
    },
    {
      "cell_type": "code",
      "metadata": {
        "id": "l3EX-WA6_52R"
      },
      "source": [
        "tup = (1,2,3,3)"
      ],
      "execution_count": null,
      "outputs": []
    },
    {
      "cell_type": "code",
      "metadata": {
        "id": "RCPPUCQoBu_w",
        "colab": {
          "base_uri": "https://localhost:8080/"
        },
        "outputId": "d5191ec1-65bb-4e0b-ab95-ef80ebd5958d"
      },
      "source": [
        "type(tup)"
      ],
      "execution_count": null,
      "outputs": [
        {
          "output_type": "execute_result",
          "data": {
            "text/plain": [
              "tuple"
            ]
          },
          "metadata": {
            "tags": []
          },
          "execution_count": 2
        }
      ]
    },
    {
      "cell_type": "code",
      "metadata": {
        "id": "fVyUlswxBwdr",
        "colab": {
          "base_uri": "https://localhost:8080/"
        },
        "outputId": "7899e7f8-357f-43d8-de14-e2790ec7f69d"
      },
      "source": [
        "len(tup)"
      ],
      "execution_count": null,
      "outputs": [
        {
          "output_type": "execute_result",
          "data": {
            "text/plain": [
              "4"
            ]
          },
          "metadata": {
            "tags": []
          },
          "execution_count": 3
        }
      ]
    },
    {
      "cell_type": "code",
      "metadata": {
        "id": "ABdlzbDFCKtB",
        "colab": {
          "base_uri": "https://localhost:8080/"
        },
        "outputId": "802dbe0a-bbc9-4f15-878a-9b08ca87217a"
      },
      "source": [
        "# tuples have interesting methods:\n",
        "#\n",
        "# tuples allow duplicates:\n",
        "print(tup.count(3))\n",
        "# tuples are indexed:\n",
        "print(tup.index(2))"
      ],
      "execution_count": null,
      "outputs": [
        {
          "output_type": "stream",
          "text": [
            "2\n",
            "1\n"
          ],
          "name": "stdout"
        }
      ]
    },
    {
      "cell_type": "markdown",
      "metadata": {
        "id": "p29VIA8eDfgW"
      },
      "source": [
        "Here is another way to define tuples:\n",
        "\n",
        "\n",
        "```\n",
        "tup2 = 1,1,1,2,3,3\n",
        "```\n",
        "\n",
        "But you don't know me yet and shouldn't trust everything I say and check for yourself :)\n"
      ]
    },
    {
      "cell_type": "code",
      "metadata": {
        "id": "Fod8PmuxDCUQ"
      },
      "source": [
        "# define the tuple as shown above:\n",
        "tup2 = 1,1,1,2,3,3"
      ],
      "execution_count": null,
      "outputs": []
    },
    {
      "cell_type": "code",
      "metadata": {
        "id": "CyisAXkEDMiB",
        "colab": {
          "base_uri": "https://localhost:8080/"
        },
        "outputId": "867392a6-e3db-4668-8d9a-5b042e6d02cb"
      },
      "source": [
        "# check its type\n",
        "type(tup2)"
      ],
      "execution_count": null,
      "outputs": [
        {
          "output_type": "execute_result",
          "data": {
            "text/plain": [
              "tuple"
            ]
          },
          "metadata": {
            "tags": []
          },
          "execution_count": 6
        }
      ]
    },
    {
      "cell_type": "code",
      "metadata": {
        "id": "Pn5lR1FLD1QD",
        "colab": {
          "base_uri": "https://localhost:8080/"
        },
        "outputId": "a3d89433-8a13-4b3b-fbbc-d886444a9f49"
      },
      "source": [
        "# check its values\n",
        "tup2.count(2)"
      ],
      "execution_count": null,
      "outputs": [
        {
          "output_type": "execute_result",
          "data": {
            "text/plain": [
              "1"
            ]
          },
          "metadata": {
            "tags": []
          },
          "execution_count": 16
        }
      ]
    },
    {
      "cell_type": "code",
      "metadata": {
        "id": "J9zBvuCdEAdS",
        "colab": {
          "base_uri": "https://localhost:8080/"
        },
        "outputId": "bcb71afb-f3cc-4dc4-813e-45ca6e649e5a"
      },
      "source": [
        "# count the ones in it\n",
        "tup2.count(1)"
      ],
      "execution_count": null,
      "outputs": [
        {
          "output_type": "execute_result",
          "data": {
            "text/plain": [
              "3"
            ]
          },
          "metadata": {
            "tags": []
          },
          "execution_count": 8
        }
      ]
    },
    {
      "cell_type": "code",
      "metadata": {
        "id": "IGgkXCaqb6PX"
      },
      "source": [
        "whatami = [1,1,1,2,3,3 ]"
      ],
      "execution_count": null,
      "outputs": []
    },
    {
      "cell_type": "code",
      "metadata": {
        "colab": {
          "base_uri": "https://localhost:8080/"
        },
        "id": "b1pzRrQcb98d",
        "outputId": "f56e6b82-15d3-42ab-b293-3766c478de16"
      },
      "source": [
        "type(whatami)"
      ],
      "execution_count": null,
      "outputs": [
        {
          "output_type": "execute_result",
          "data": {
            "text/plain": [
              "list"
            ]
          },
          "metadata": {
            "tags": []
          },
          "execution_count": 11
        }
      ]
    },
    {
      "cell_type": "code",
      "metadata": {
        "colab": {
          "base_uri": "https://localhost:8080/"
        },
        "id": "EKbGiPi5cIrC",
        "outputId": "7cbde553-277a-49a0-8abc-a830d0059ea9"
      },
      "source": [
        "# what if I want to have a tuple with one data ?\n",
        "tup3 = (2.5)\n",
        "type(tup3)"
      ],
      "execution_count": null,
      "outputs": [
        {
          "output_type": "execute_result",
          "data": {
            "text/plain": [
              "float"
            ]
          },
          "metadata": {
            "tags": []
          },
          "execution_count": 14
        }
      ]
    },
    {
      "cell_type": "code",
      "metadata": {
        "id": "tdsND2yAdr3P"
      },
      "source": [
        "tup4 = (1,2)"
      ],
      "execution_count": null,
      "outputs": []
    },
    {
      "cell_type": "code",
      "metadata": {
        "id": "rCGfTYmRdt_G"
      },
      "source": [
        "tup4 = (3,4,5)"
      ],
      "execution_count": null,
      "outputs": []
    },
    {
      "cell_type": "markdown",
      "metadata": {
        "id": "JnViVSTMEORp"
      },
      "source": [
        "## Lists"
      ]
    },
    {
      "cell_type": "code",
      "metadata": {
        "id": "5hX4xfrJER_8",
        "colab": {
          "base_uri": "https://localhost:8080/"
        },
        "outputId": "5b804f84-7332-46a3-eef6-c138615dc538"
      },
      "source": [
        "x= [1,2,3]\n",
        "type(x)"
      ],
      "execution_count": 23,
      "outputs": [
        {
          "output_type": "execute_result",
          "data": {
            "text/plain": [
              "list"
            ]
          },
          "metadata": {
            "tags": []
          },
          "execution_count": 23
        }
      ]
    },
    {
      "cell_type": "code",
      "metadata": {
        "id": "vrQgrMu1EbrI",
        "colab": {
          "base_uri": "https://localhost:8080/"
        },
        "outputId": "76804dc6-b464-46e7-e334-6b6da9df0776"
      },
      "source": [
        "x"
      ],
      "execution_count": 24,
      "outputs": [
        {
          "output_type": "execute_result",
          "data": {
            "text/plain": [
              "[1, 2, 3]"
            ]
          },
          "metadata": {
            "tags": []
          },
          "execution_count": 24
        }
      ]
    },
    {
      "cell_type": "code",
      "metadata": {
        "id": "HuEx7gbxlfnt"
      },
      "source": [
        ""
      ],
      "execution_count": null,
      "outputs": []
    },
    {
      "cell_type": "code",
      "metadata": {
        "id": "_viIePC1Ed4Z"
      },
      "source": [
        "y= ['a', 1, 2.3, True]"
      ],
      "execution_count": 5,
      "outputs": []
    },
    {
      "cell_type": "code",
      "metadata": {
        "id": "QA8xpy-lEo25",
        "colab": {
          "base_uri": "https://localhost:8080/"
        },
        "outputId": "99b444b7-3d06-497e-cf47-238f2effaaa0"
      },
      "source": [
        "type(y)"
      ],
      "execution_count": 6,
      "outputs": [
        {
          "output_type": "execute_result",
          "data": {
            "text/plain": [
              "list"
            ]
          },
          "metadata": {
            "tags": []
          },
          "execution_count": 6
        }
      ]
    },
    {
      "cell_type": "markdown",
      "metadata": {
        "id": "rjgX7tqJE34B"
      },
      "source": [
        "I wonder, can lists host other lists, i.e. nested lists?"
      ]
    },
    {
      "cell_type": "code",
      "metadata": {
        "id": "_uVqfEepE77e"
      },
      "source": [
        "z= [1, 2, 3 , y , 'b']"
      ],
      "execution_count": 7,
      "outputs": []
    },
    {
      "cell_type": "code",
      "metadata": {
        "id": "lkLP45x2FDXc",
        "colab": {
          "base_uri": "https://localhost:8080/"
        },
        "outputId": "db396552-1ad2-48d4-ccbd-da7f23875bc6"
      },
      "source": [
        "z"
      ],
      "execution_count": 8,
      "outputs": [
        {
          "output_type": "execute_result",
          "data": {
            "text/plain": [
              "[1, 2, 3, ['a', 1, 2.3, True], 'b']"
            ]
          },
          "metadata": {
            "tags": []
          },
          "execution_count": 8
        }
      ]
    },
    {
      "cell_type": "code",
      "metadata": {
        "colab": {
          "base_uri": "https://localhost:8080/"
        },
        "id": "3ss0aFzMeea7",
        "outputId": "39d193cb-2bfd-43c6-b5b1-73b93166a4ac"
      },
      "source": [
        "print(len(z))\n",
        "print(z.count(1))\n"
      ],
      "execution_count": 17,
      "outputs": [
        {
          "output_type": "stream",
          "text": [
            "5\n",
            "1\n"
          ],
          "name": "stdout"
        }
      ]
    },
    {
      "cell_type": "markdown",
      "metadata": {
        "id": "gMfqI5NuGCfV"
      },
      "source": [
        "#### Quick exercise"
      ]
    },
    {
      "cell_type": "code",
      "metadata": {
        "id": "YXV0j0odFEMP"
      },
      "source": [
        "# How many elements does z have? \n",
        "#(you can use a function you learnt for strings to answer this)\n",
        "\n",
        "# your code here"
      ],
      "execution_count": null,
      "outputs": []
    },
    {
      "cell_type": "code",
      "metadata": {
        "id": "ucVGpVMaF5CY"
      },
      "source": [
        "# How many 1s are there in z?\n",
        "\n",
        "#your code here"
      ],
      "execution_count": null,
      "outputs": []
    },
    {
      "cell_type": "markdown",
      "metadata": {
        "id": "Kde7EdszFdoX"
      },
      "source": [
        "## List methods\n",
        "Lists have many more methods than tuples. \n",
        "\n",
        "While exploring those, let's see some other useful functions as we go:"
      ]
    },
    {
      "cell_type": "code",
      "metadata": {
        "id": "Cb9PREdLFF74"
      },
      "source": [
        "tmp = list(range(10))"
      ],
      "execution_count": 18,
      "outputs": []
    },
    {
      "cell_type": "code",
      "metadata": {
        "id": "peTDzFAWF0Ra"
      },
      "source": [
        "tmp"
      ],
      "execution_count": null,
      "outputs": []
    },
    {
      "cell_type": "code",
      "metadata": {
        "id": "2nJvUmVNHCqD"
      },
      "source": [
        "# can we add the last number or take out the first one?\n",
        "\n",
        "# my code here"
      ],
      "execution_count": 20,
      "outputs": []
    },
    {
      "cell_type": "code",
      "metadata": {
        "id": "guIe6ZbjHfKK"
      },
      "source": [
        "# let's do sth similar with strings:\n",
        "x = ['a', 'b', 'c']"
      ],
      "execution_count": 21,
      "outputs": []
    },
    {
      "cell_type": "code",
      "metadata": {
        "id": "Nys7FKVQHmuu"
      },
      "source": [
        "x.append(4)\n"
      ],
      "execution_count": 22,
      "outputs": []
    },
    {
      "cell_type": "code",
      "metadata": {
        "colab": {
          "base_uri": "https://localhost:8080/"
        },
        "id": "vZ4fVkUKd8P4",
        "outputId": "64e5abac-483f-407d-b82b-708674166ecf"
      },
      "source": [
        "x"
      ],
      "execution_count": null,
      "outputs": [
        {
          "output_type": "execute_result",
          "data": {
            "text/plain": [
              "['a', 'b', 'c', 4]"
            ]
          },
          "metadata": {
            "tags": []
          },
          "execution_count": 22
        }
      ]
    },
    {
      "cell_type": "code",
      "metadata": {
        "id": "rLqvfsR1Hq8s"
      },
      "source": [
        "# can we append to an empty list?\n",
        "tmp2 = []\n",
        "tmp2.append('will it work?')\n",
        "tmp2"
      ],
      "execution_count": null,
      "outputs": []
    },
    {
      "cell_type": "code",
      "metadata": {
        "id": "i5T2lt6WHyyA"
      },
      "source": [
        "# let's make this list a bit longer\n",
        "tmp2 += x\n",
        "tmp2"
      ],
      "execution_count": null,
      "outputs": []
    },
    {
      "cell_type": "code",
      "metadata": {
        "id": "1LtkVf2xIV_d"
      },
      "source": [
        "# let's remove some elements\n",
        "tmp2.pop()"
      ],
      "execution_count": null,
      "outputs": []
    },
    {
      "cell_type": "code",
      "metadata": {
        "id": "SHjdc-MqIsFv"
      },
      "source": [
        "tmp2"
      ],
      "execution_count": null,
      "outputs": []
    },
    {
      "cell_type": "code",
      "metadata": {
        "id": "E_a_QQYSIt1i"
      },
      "source": [
        "# Try the other following methods \n",
        "# what do they do?\n",
        "#\n",
        "# mylist.clear()\n",
        "# mylist.remove()"
      ],
      "execution_count": null,
      "outputs": []
    },
    {
      "cell_type": "markdown",
      "metadata": {
        "id": "o_1muTaJJSPJ"
      },
      "source": [
        "## Indexing/Slicing"
      ]
    },
    {
      "cell_type": "code",
      "metadata": {
        "id": "CfLb4dmII70_"
      },
      "source": [
        "slicer = [1,5,6,7,8]"
      ],
      "execution_count": null,
      "outputs": []
    },
    {
      "cell_type": "code",
      "metadata": {
        "id": "bT9XHnG_JhJZ"
      },
      "source": [
        "#How to access to data with its address\n",
        "slicer[0]"
      ],
      "execution_count": null,
      "outputs": []
    },
    {
      "cell_type": "code",
      "metadata": {
        "id": "vdxE2M8jJzS-"
      },
      "source": [
        "#can you guess what the following line will return?\n",
        "#slicer[2]**2"
      ],
      "execution_count": null,
      "outputs": []
    },
    {
      "cell_type": "code",
      "metadata": {
        "id": "aSzZAIWhJ-bg"
      },
      "source": [
        "#python allows access from the reverse order too!\n",
        "slicer[-1]"
      ],
      "execution_count": null,
      "outputs": []
    },
    {
      "cell_type": "code",
      "metadata": {
        "id": "WJiQaOfkKEAz"
      },
      "source": [
        "#Note that not all languages start indexing from 0\n",
        "# indeed this about python often causes a well known bug :)\n",
        "len(slicer)"
      ],
      "execution_count": null,
      "outputs": []
    },
    {
      "cell_type": "code",
      "metadata": {
        "id": "dr-fOgAnKaI3"
      },
      "source": [
        "#slicer[len(slicer)]"
      ],
      "execution_count": null,
      "outputs": []
    },
    {
      "cell_type": "markdown",
      "metadata": {
        "id": "LyFoMqjpKyNM"
      },
      "source": [
        "## Range selection"
      ]
    },
    {
      "cell_type": "code",
      "metadata": {
        "id": "_cSoD60TKeLf"
      },
      "source": [
        "print(slicer)\n",
        "slicer[0:2]"
      ],
      "execution_count": null,
      "outputs": []
    },
    {
      "cell_type": "code",
      "metadata": {
        "id": "bIXHVcVbK9sF"
      },
      "source": [
        "slicer[1:3]"
      ],
      "execution_count": null,
      "outputs": []
    },
    {
      "cell_type": "code",
      "metadata": {
        "id": "nMKZ64aZLDCd"
      },
      "source": [
        "myword = \"programming\"\n",
        "print(len(myword))\n",
        "myword[0:3]"
      ],
      "execution_count": null,
      "outputs": []
    },
    {
      "cell_type": "code",
      "metadata": {
        "id": "NQctbGRLLJu6"
      },
      "source": [
        "# will this work, or give an index error?\n",
        "myword[0:11]"
      ],
      "execution_count": null,
      "outputs": []
    },
    {
      "cell_type": "code",
      "metadata": {
        "colab": {
          "base_uri": "https://localhost:8080/",
          "height": 35
        },
        "id": "_Wcj8m7dLTbK",
        "outputId": "d8675bc1-b1b1-4ea5-8a7d-d392ea887b3c"
      },
      "source": [
        "#Try the following, see what they do:\n",
        "#myword[:]\n",
        "#myword[8:]\n",
        "#myword[:3]\n",
        "#myword[3:7]\n",
        "#myword[:-8]\n",
        "#myword[-11:]\n",
        "#myword[::-1]\n",
        "#myword[-9:-5]"
      ],
      "execution_count": null,
      "outputs": [
        {
          "output_type": "execute_result",
          "data": {
            "application/vnd.google.colaboratory.intrinsic+json": {
              "type": "string"
            },
            "text/plain": [
              "'gnimmargorp'"
            ]
          },
          "metadata": {
            "tags": []
          },
          "execution_count": 130
        }
      ]
    },
    {
      "cell_type": "code",
      "metadata": {
        "colab": {
          "base_uri": "https://localhost:8080/"
        },
        "id": "9t8AE-TxL0C4",
        "outputId": "70bae7d8-4553-4774-bfaf-85313a1141f2"
      },
      "source": [
        "#knowing how to reverse can get handy:\n",
        "print(x)\n",
        "x.reverse()\n",
        "print(x)"
      ],
      "execution_count": null,
      "outputs": [
        {
          "output_type": "stream",
          "text": [
            "[4, 'c', 'b', 'a']\n",
            "['a', 'b', 'c', 4]\n"
          ],
          "name": "stdout"
        }
      ]
    },
    {
      "cell_type": "markdown",
      "metadata": {
        "id": "YVyyI_3iNez1"
      },
      "source": [
        "### Quick exercise:\n",
        "1.  Define a new string \"I started to like this course\".\n",
        "2.  Split the string by using space as the delimeter, and assing the output to a list\n",
        "3.  Print the first element of the list\n",
        "4.  Print the last element of the list\n",
        "5.  Print the list reversed\n",
        "6.  Print the second and third element of the list"
      ]
    },
    {
      "cell_type": "markdown",
      "metadata": {
        "id": "QQPou7PFOsvc"
      },
      "source": [
        "### Even quicker exercise\n",
        "\n",
        "1.  make a list that looks like `x=[2,3,...,30]`\n",
        "2.  print the first 2, last 2, and 12th elements\n",
        "3.  reverse the values of the list in place"
      ]
    },
    {
      "cell_type": "code",
      "metadata": {
        "colab": {
          "base_uri": "https://localhost:8080/"
        },
        "id": "WzOyYMlTRK8g",
        "outputId": "8b5bfe9a-7b2d-4702-a31f-6ca2037b2642"
      },
      "source": [
        "# One important nuance before we wrap this up\n",
        "# make sure to check the type of what your commands return:\n",
        "tmp"
      ],
      "execution_count": null,
      "outputs": [
        {
          "output_type": "execute_result",
          "data": {
            "text/plain": [
              "[0, 1, 2, 3, 4, 5, 6, 7, 8, 9]"
            ]
          },
          "metadata": {
            "tags": []
          },
          "execution_count": 145
        }
      ]
    },
    {
      "cell_type": "code",
      "metadata": {
        "colab": {
          "base_uri": "https://localhost:8080/"
        },
        "id": "VLbsiyRSRSeR",
        "outputId": "69b44db4-ed59-4c81-ad15-974d9110af95"
      },
      "source": [
        "tmp[0]\n"
      ],
      "execution_count": null,
      "outputs": [
        {
          "output_type": "execute_result",
          "data": {
            "text/plain": [
              "int"
            ]
          },
          "metadata": {
            "tags": []
          },
          "execution_count": 149
        }
      ]
    },
    {
      "cell_type": "code",
      "metadata": {
        "colab": {
          "base_uri": "https://localhost:8080/"
        },
        "id": "qvc0gZvnRVcJ",
        "outputId": "284abc4e-f1ff-4144-f428-ee50e7aceb2f"
      },
      "source": [
        "tmp[:1]"
      ],
      "execution_count": null,
      "outputs": [
        {
          "output_type": "execute_result",
          "data": {
            "text/plain": [
              "[0]"
            ]
          },
          "metadata": {
            "tags": []
          },
          "execution_count": 152
        }
      ]
    },
    {
      "cell_type": "markdown",
      "metadata": {
        "id": "l6b44OBdSPa2"
      },
      "source": [
        "## Insert and Extend "
      ]
    },
    {
      "cell_type": "code",
      "metadata": {
        "id": "m7pbVStbSR9O"
      },
      "source": [
        "# Insert an element at a position\n",
        "mylist = [0,1,2,3]\n",
        "mylist2= [4,5,6]"
      ],
      "execution_count": null,
      "outputs": []
    },
    {
      "cell_type": "code",
      "metadata": {
        "colab": {
          "base_uri": "https://localhost:8080/"
        },
        "id": "oJzFLNi6SYx3",
        "outputId": "43e76dd0-e06e-4f76-bb7f-7e156c44fe8b"
      },
      "source": [
        "mylist.insert(0,'a')\n",
        "mylist"
      ],
      "execution_count": null,
      "outputs": [
        {
          "output_type": "execute_result",
          "data": {
            "text/plain": [
              "['a', 0, 1, 2, 3]"
            ]
          },
          "metadata": {
            "tags": []
          },
          "execution_count": 168
        }
      ]
    },
    {
      "cell_type": "code",
      "metadata": {
        "colab": {
          "base_uri": "https://localhost:8080/"
        },
        "id": "KS6pZwLaSck2",
        "outputId": "5897a37b-5617-49de-da06-a2a858dc1b1b"
      },
      "source": [
        "mylist.extend('b')\n",
        "mylist"
      ],
      "execution_count": null,
      "outputs": [
        {
          "output_type": "execute_result",
          "data": {
            "text/plain": [
              "['a', 0, 1, 2, 3, 'b']"
            ]
          },
          "metadata": {
            "tags": []
          },
          "execution_count": 169
        }
      ]
    },
    {
      "cell_type": "code",
      "metadata": {
        "colab": {
          "base_uri": "https://localhost:8080/",
          "height": 35
        },
        "id": "VhgvyG2lSvx2",
        "outputId": "b14b2969-ad40-48e1-b356-31fec9de52bf"
      },
      "source": [
        "mylist.pop(0)\n",
        "mylist.pop(-1)"
      ],
      "execution_count": null,
      "outputs": [
        {
          "output_type": "execute_result",
          "data": {
            "application/vnd.google.colaboratory.intrinsic+json": {
              "type": "string"
            },
            "text/plain": [
              "'b'"
            ]
          },
          "metadata": {
            "tags": []
          },
          "execution_count": 170
        }
      ]
    },
    {
      "cell_type": "code",
      "metadata": {
        "id": "t7K0rfbBS0WU"
      },
      "source": [
        "mylist.insert(4,mylist2)"
      ],
      "execution_count": null,
      "outputs": []
    },
    {
      "cell_type": "code",
      "metadata": {
        "id": "m4ovoDeGS02G"
      },
      "source": [
        "mylist.extend(mylist2)"
      ],
      "execution_count": null,
      "outputs": []
    },
    {
      "cell_type": "code",
      "metadata": {
        "colab": {
          "base_uri": "https://localhost:8080/"
        },
        "id": "I48JN48LTYcF",
        "outputId": "36178c39-78f8-4954-a763-bdd7ea504b72"
      },
      "source": [
        "mylist + mylist2"
      ],
      "execution_count": null,
      "outputs": [
        {
          "output_type": "execute_result",
          "data": {
            "text/plain": [
              "[0, 1, 2, 3, 4, 5, 6]"
            ]
          },
          "metadata": {
            "tags": []
          },
          "execution_count": 178
        }
      ]
    },
    {
      "cell_type": "markdown",
      "metadata": {
        "id": "yWbWu_7XT7tS"
      },
      "source": [
        "#Lab time!\n",
        "Hope you enjoyed this first intro to python data structures. Now beyond the basic data types such as integers, floats, you also know some data structures!\n",
        "\n",
        "You are getting good at this! Now move to Lab notebook and solve the exercises there! As before, first make a github repo \"ba765-session02\" and then push your notebook there before you come *back* to the classroom "
      ]
    },
    {
      "cell_type": "code",
      "metadata": {
        "id": "tqlDdlg_Tei9"
      },
      "source": [
        ""
      ],
      "execution_count": 22,
      "outputs": []
    }
  ]
}